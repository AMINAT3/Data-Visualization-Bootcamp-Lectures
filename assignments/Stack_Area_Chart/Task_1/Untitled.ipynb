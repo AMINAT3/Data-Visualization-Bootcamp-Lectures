{
 "cells": [
  {
   "cell_type": "code",
   "execution_count": 1,
   "id": "465d9768-176b-4e44-ab8c-74304921dc45",
   "metadata": {},
   "outputs": [],
   "source": [
    "import pandas as pd\n",
    "import matplotlib.pyplot as plt\n",
    "import seaborn as sns\n",
    "sns.set()"
   ]
  },
  {
   "cell_type": "code",
   "execution_count": 3,
   "id": "886f559f-d0b3-4a19-b426-9fbf6dab80ba",
   "metadata": {},
   "outputs": [],
   "source": [
    "df_spx_ftse_00_10 = pd.read_csv(\"C:\\\\Users\\\\Zachary_B\\\\Desktop\\\\data sci bootcamp\\\\Data Visualization\\\\data set\\\\line_chart_data.csv\")"
   ]
  },
  {
   "cell_type": "code",
   "execution_count": 4,
   "id": "d4e60c7f-bf06-415d-b93e-55c62bf692e5",
   "metadata": {},
   "outputs": [
    {
     "data": {
      "text/html": [
       "<div>\n",
       "<style scoped>\n",
       "    .dataframe tbody tr th:only-of-type {\n",
       "        vertical-align: middle;\n",
       "    }\n",
       "\n",
       "    .dataframe tbody tr th {\n",
       "        vertical-align: top;\n",
       "    }\n",
       "\n",
       "    .dataframe thead th {\n",
       "        text-align: right;\n",
       "    }\n",
       "</style>\n",
       "<table border=\"1\" class=\"dataframe\">\n",
       "  <thead>\n",
       "    <tr style=\"text-align: right;\">\n",
       "      <th></th>\n",
       "      <th>Date</th>\n",
       "      <th>GSPC500</th>\n",
       "      <th>FTSE100</th>\n",
       "    </tr>\n",
       "  </thead>\n",
       "  <tbody>\n",
       "    <tr>\n",
       "      <th>0</th>\n",
       "      <td>1/3/2000</td>\n",
       "      <td>0.003264</td>\n",
       "      <td>0.000000</td>\n",
       "    </tr>\n",
       "    <tr>\n",
       "      <th>1</th>\n",
       "      <td>1/4/2000</td>\n",
       "      <td>-0.009549</td>\n",
       "      <td>0.000000</td>\n",
       "    </tr>\n",
       "    <tr>\n",
       "      <th>2</th>\n",
       "      <td>1/5/2000</td>\n",
       "      <td>-0.038345</td>\n",
       "      <td>-0.038137</td>\n",
       "    </tr>\n",
       "    <tr>\n",
       "      <th>3</th>\n",
       "      <td>1/6/2000</td>\n",
       "      <td>0.001922</td>\n",
       "      <td>-0.019502</td>\n",
       "    </tr>\n",
       "    <tr>\n",
       "      <th>4</th>\n",
       "      <td>1/7/2000</td>\n",
       "      <td>0.000956</td>\n",
       "      <td>-0.013571</td>\n",
       "    </tr>\n",
       "    <tr>\n",
       "      <th>...</th>\n",
       "      <td>...</td>\n",
       "      <td>...</td>\n",
       "      <td>...</td>\n",
       "    </tr>\n",
       "    <tr>\n",
       "      <th>2865</th>\n",
       "      <td>12/27/2010</td>\n",
       "      <td>-0.002282</td>\n",
       "      <td>0.002135</td>\n",
       "    </tr>\n",
       "    <tr>\n",
       "      <th>2866</th>\n",
       "      <td>12/28/2010</td>\n",
       "      <td>0.003539</td>\n",
       "      <td>0.000000</td>\n",
       "    </tr>\n",
       "    <tr>\n",
       "      <th>2867</th>\n",
       "      <td>12/29/2010</td>\n",
       "      <td>-0.000254</td>\n",
       "      <td>0.000000</td>\n",
       "    </tr>\n",
       "    <tr>\n",
       "      <th>2868</th>\n",
       "      <td>12/30/2010</td>\n",
       "      <td>0.000524</td>\n",
       "      <td>-0.002080</td>\n",
       "    </tr>\n",
       "    <tr>\n",
       "      <th>2869</th>\n",
       "      <td>12/31/2010</td>\n",
       "      <td>-0.002128</td>\n",
       "      <td>-0.004236</td>\n",
       "    </tr>\n",
       "  </tbody>\n",
       "</table>\n",
       "<p>2870 rows × 3 columns</p>\n",
       "</div>"
      ],
      "text/plain": [
       "            Date   GSPC500   FTSE100\n",
       "0       1/3/2000  0.003264  0.000000\n",
       "1       1/4/2000 -0.009549  0.000000\n",
       "2       1/5/2000 -0.038345 -0.038137\n",
       "3       1/6/2000  0.001922 -0.019502\n",
       "4       1/7/2000  0.000956 -0.013571\n",
       "...          ...       ...       ...\n",
       "2865  12/27/2010 -0.002282  0.002135\n",
       "2866  12/28/2010  0.003539  0.000000\n",
       "2867  12/29/2010 -0.000254  0.000000\n",
       "2868  12/30/2010  0.000524 -0.002080\n",
       "2869  12/31/2010 -0.002128 -0.004236\n",
       "\n",
       "[2870 rows x 3 columns]"
      ]
     },
     "execution_count": 4,
     "metadata": {},
     "output_type": "execute_result"
    }
   ],
   "source": [
    "df_spx_ftse_00_10"
   ]
  },
  {
   "cell_type": "code",
   "execution_count": 5,
   "id": "cb516645-c5ca-4395-9d30-187426432f71",
   "metadata": {},
   "outputs": [],
   "source": [
    "df_spx_ftse_00_10[\"new_date\"] = pd.to_datetime(df_spx_ftse_00_10[\"Date\"])"
   ]
  },
  {
   "cell_type": "code",
   "execution_count": 6,
   "id": "78dc481e-de0b-436b-8765-3312c9809c4a",
   "metadata": {},
   "outputs": [
    {
     "data": {
      "text/plain": [
       "0      2000-01-03\n",
       "1      2000-01-04\n",
       "2      2000-01-05\n",
       "3      2000-01-06\n",
       "4      2000-01-07\n",
       "          ...    \n",
       "2865   2010-12-27\n",
       "2866   2010-12-28\n",
       "2867   2010-12-29\n",
       "2868   2010-12-30\n",
       "2869   2010-12-31\n",
       "Name: new_date, Length: 2870, dtype: datetime64[ns]"
      ]
     },
     "execution_count": 6,
     "metadata": {},
     "output_type": "execute_result"
    }
   ],
   "source": [
    "df_spx_ftse_00_10[\"new_date\"]"
   ]
  },
  {
   "cell_type": "code",
   "execution_count": null,
   "id": "a5ae915c-7aa6-4b86-9fd4-abc45ad9935b",
   "metadata": {},
   "outputs": [],
   "source": [
    "labels = [\"S&P 500\", \"FTSE 100\"]\n",
    "plt.figure(figsize = (20, 8))\n",
    "plt.plot(df_spx_ftse_00_10[\"new_date\"], df_spx_ftse_00_10[\"GSPC500\"])\n",
    "plt.plot(df_spx_ftse_00_10[\"new_date\"], df_spx_ftse_00_10[\"FTSE100\"])\n",
    "plt.title(\"S&P vs FTSE Returns (2000 - 2010)\", fontsize = 14, fontweight = \"bold\")\n",
    "plt.ylabel(\"Returns\")\n",
    "plt.xlabel(\"Date\")\n",
    "plt.legend(labels = labels, fontsize = \"large\")\n",
    "plt.show()"
   ]
  }
 ],
 "metadata": {
  "kernelspec": {
   "display_name": "Python 3",
   "language": "python",
   "name": "python3"
  },
  "language_info": {
   "codemirror_mode": {
    "name": "ipython",
    "version": 3
   },
   "file_extension": ".py",
   "mimetype": "text/x-python",
   "name": "python",
   "nbconvert_exporter": "python",
   "pygments_lexer": "ipython3",
   "version": "3.8.8"
  }
 },
 "nbformat": 4,
 "nbformat_minor": 5
}
